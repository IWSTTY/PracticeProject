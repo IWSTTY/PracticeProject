{
 "cells": [
  {
   "cell_type": "code",
   "execution_count": 3,
   "metadata": {},
   "outputs": [],
   "source": [
    "import pandas as pd\n",
    "\n",
    "\n",
    "data01 = [\n",
    "    [27280,27400,26990,27030],\n",
    "    [27300,27540,27260,27540],#始値、高値、安値、終値\n",
    "    [27260,27300,27150,27200]\n",
    "]\n",
    "\n",
    "df_data01 = pd.DataFrame(data01,index=['2022/02/01','2022/02/02','2022/02/03'],columns=['Open','High','Low','Close'])"
   ]
  },
  {
   "cell_type": "code",
   "execution_count": 4,
   "metadata": {},
   "outputs": [
    {
     "data": {
      "text/html": [
       "<div>\n",
       "<style scoped>\n",
       "    .dataframe tbody tr th:only-of-type {\n",
       "        vertical-align: middle;\n",
       "    }\n",
       "\n",
       "    .dataframe tbody tr th {\n",
       "        vertical-align: top;\n",
       "    }\n",
       "\n",
       "    .dataframe thead th {\n",
       "        text-align: right;\n",
       "    }\n",
       "</style>\n",
       "<table border=\"1\" class=\"dataframe\">\n",
       "  <thead>\n",
       "    <tr style=\"text-align: right;\">\n",
       "      <th></th>\n",
       "      <th>Open</th>\n",
       "      <th>High</th>\n",
       "      <th>Low</th>\n",
       "      <th>Close</th>\n",
       "    </tr>\n",
       "  </thead>\n",
       "  <tbody>\n",
       "    <tr>\n",
       "      <th>2022/02/01</th>\n",
       "      <td>27280</td>\n",
       "      <td>27400</td>\n",
       "      <td>26990</td>\n",
       "      <td>27030</td>\n",
       "    </tr>\n",
       "    <tr>\n",
       "      <th>2022/02/02</th>\n",
       "      <td>27300</td>\n",
       "      <td>27540</td>\n",
       "      <td>27260</td>\n",
       "      <td>27540</td>\n",
       "    </tr>\n",
       "    <tr>\n",
       "      <th>2022/02/03</th>\n",
       "      <td>27260</td>\n",
       "      <td>27300</td>\n",
       "      <td>27150</td>\n",
       "      <td>27200</td>\n",
       "    </tr>\n",
       "  </tbody>\n",
       "</table>\n",
       "</div>"
      ],
      "text/plain": [
       "             Open   High    Low  Close\n",
       "2022/02/01  27280  27400  26990  27030\n",
       "2022/02/02  27300  27540  27260  27540\n",
       "2022/02/03  27260  27300  27150  27200"
      ]
     },
     "execution_count": 4,
     "metadata": {},
     "output_type": "execute_result"
    }
   ],
   "source": [
    "df_data01"
   ]
  },
  {
   "cell_type": "code",
   "execution_count": 5,
   "metadata": {},
   "outputs": [],
   "source": [
    "ans01 = [\n",
    "    ['up'],\n",
    "    ['Down'],\n",
    "    ['Up']\n",
    "]\n",
    "\n",
    "df_ans01 = pd.DataFrame(ans01,index=['2022/02/01','2022/02/02','2022/02/03'],columns=['result'])"
   ]
  },
  {
   "cell_type": "code",
   "execution_count": 8,
   "metadata": {},
   "outputs": [
    {
     "data": {
      "text/html": [
       "<div>\n",
       "<style scoped>\n",
       "    .dataframe tbody tr th:only-of-type {\n",
       "        vertical-align: middle;\n",
       "    }\n",
       "\n",
       "    .dataframe tbody tr th {\n",
       "        vertical-align: top;\n",
       "    }\n",
       "\n",
       "    .dataframe thead th {\n",
       "        text-align: right;\n",
       "    }\n",
       "</style>\n",
       "<table border=\"1\" class=\"dataframe\">\n",
       "  <thead>\n",
       "    <tr style=\"text-align: right;\">\n",
       "      <th></th>\n",
       "      <th>result</th>\n",
       "    </tr>\n",
       "  </thead>\n",
       "  <tbody>\n",
       "    <tr>\n",
       "      <th>2022/02/01</th>\n",
       "      <td>up</td>\n",
       "    </tr>\n",
       "    <tr>\n",
       "      <th>2022/02/02</th>\n",
       "      <td>Down</td>\n",
       "    </tr>\n",
       "    <tr>\n",
       "      <th>2022/02/03</th>\n",
       "      <td>Up</td>\n",
       "    </tr>\n",
       "  </tbody>\n",
       "</table>\n",
       "</div>"
      ],
      "text/plain": [
       "           result\n",
       "2022/02/01     up\n",
       "2022/02/02   Down\n",
       "2022/02/03     Up"
      ]
     },
     "execution_count": 8,
     "metadata": {},
     "output_type": "execute_result"
    }
   ],
   "source": [
    "df_ans01"
   ]
  },
  {
   "cell_type": "code",
   "execution_count": 6,
   "metadata": {},
   "outputs": [
    {
     "data": {
      "text/plain": [
       "DecisionTreeClassifier(max_depth=2, random_state=0)"
      ]
     },
     "execution_count": 6,
     "metadata": {},
     "output_type": "execute_result"
    }
   ],
   "source": [
    "#モデルを定義\n",
    "from sklearn import tree\n",
    "\n",
    "model_01 = tree.DecisionTreeClassifier(max_depth=2,random_state=0)\n",
    "model_01.fit(df_data01,df_ans01)"
   ]
  },
  {
   "cell_type": "code",
   "execution_count": 10,
   "metadata": {},
   "outputs": [],
   "source": [
    "#テストデータ（2/4）分を用意\n",
    "test01 = [\n",
    "    [27080,27430,27060,27450]\n",
    "]\n",
    "\n",
    "df_test01 = pd.DataFrame(test01,index=['2022/02/04'],columns=['Open','High','Low','Close'])"
   ]
  },
  {
   "cell_type": "code",
   "execution_count": 12,
   "metadata": {},
   "outputs": [
    {
     "data": {
      "text/plain": [
       "array(['up'], dtype=object)"
      ]
     },
     "execution_count": 12,
     "metadata": {},
     "output_type": "execute_result"
    }
   ],
   "source": [
    "#予測\n",
    "model_01.predict(df_test01)"
   ]
  },
  {
   "cell_type": "code",
   "execution_count": 7,
   "metadata": {},
   "outputs": [
    {
     "data": {
      "text/plain": [
       "array(['up', 'up'], dtype=object)"
      ]
     },
     "execution_count": 7,
     "metadata": {},
     "output_type": "execute_result"
    }
   ],
   "source": [
    "import pandas as pd\n",
    "\n",
    "#テストデータを増やす\n",
    "test02 = [\n",
    "    [27080,27430,27060,27450],\n",
    "    [27270,27430,27070,274220]\n",
    "]\n",
    "\n",
    "df_test02 = pd.DataFrame(test02,index=['2022/02/04','2022/02/07'],columns=['Open','High','Low','Close'])\n",
    "\n",
    "#予測\n",
    "model_01.predict(df_test02)"
   ]
  },
  {
   "cell_type": "code",
   "execution_count": null,
   "metadata": {},
   "outputs": [],
   "source": [
    "# https://www.youtube.com/watch?v=IB0vB8nyHl4"
   ]
  }
 ],
 "metadata": {
  "kernelspec": {
   "display_name": "Python 3.9.7 ('base')",
   "language": "python",
   "name": "python3"
  },
  "language_info": {
   "codemirror_mode": {
    "name": "ipython",
    "version": 3
   },
   "file_extension": ".py",
   "mimetype": "text/x-python",
   "name": "python",
   "nbconvert_exporter": "python",
   "pygments_lexer": "ipython3",
   "version": "3.9.7"
  },
  "orig_nbformat": 4,
  "vscode": {
   "interpreter": {
    "hash": "6b0b6d9e910a15178f1e840a606f2852b60b786dca6f87df6b44e25b91527bb6"
   }
  }
 },
 "nbformat": 4,
 "nbformat_minor": 2
}
