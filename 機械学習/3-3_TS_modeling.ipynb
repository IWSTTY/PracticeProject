{
 "cells": [
  {
   "cell_type": "markdown",
   "metadata": {},
   "source": [
    "## 時系列モデルの種類\n",
    "- AR（自己回帰モデル）　　現在の値は、過去の値から決まる\n",
    "- MA（移動平均モデル）　　現在の値は、過去の「実績と予測のズレ」から決まる\n",
    "- ARMA（自己回帰 移動平均モデル） ...AR + MA\n",
    "- ARIMA（自己回帰 和分 移動平均モデル）  ...ARMA + I(時間帯によって平均値はブレる)\n",
    "- SARIMA（季節 自己回帰 和分 移動平均モデル） ...S(データに周期性がある) + ARIMA\n",
    "- SARIMAX ...SARIMA + 説明変数"
   ]
  },
  {
   "cell_type": "code",
   "execution_count": null,
   "metadata": {},
   "outputs": [],
   "source": [
    "#いろいろインポート\n",
    "import pandas as pd\n",
    "from datetime import datetime\n",
    "import seaborn as sns\n",
    "import matplotlib.pyplot as plt\n",
    "\n",
    "#データ読み込み\n",
    "df = pd.read_csv(\"3-3_TS_sample2.csv\",index_col=\"年月日\",encoding=\"shift_jis\",parse_dates=True)"
   ]
  },
  {
   "cell_type": "code",
   "execution_count": null,
   "metadata": {},
   "outputs": [],
   "source": []
  },
  {
   "cell_type": "markdown",
   "metadata": {},
   "source": [
    "### AR,MA,ARMA"
   ]
  },
  {
   "cell_type": "code",
   "execution_count": null,
   "metadata": {},
   "outputs": [],
   "source": [
    "#statsmodelsのバージョンは0.8.0以降にしましょう \n",
    "#(コマンド)conda install -c taugspurger statsmodels=0.8.0\n",
    "import statsmodels.api as sm \n",
    "\n",
    "y = df[\"平均気温(℃)\"]\n",
    "arma_model = sm.tsa.ARMA(y, order=(3, 1),freq=\"D\")\n",
    "result = arma_model.fit()\n",
    "\n",
    "result.summary()"
   ]
  },
  {
   "cell_type": "code",
   "execution_count": null,
   "metadata": {},
   "outputs": [],
   "source": [
    "# ARMAモデルの最適パラメータ推定\n",
    "sm.tsa.arma_order_select_ic(df[\"平均気温(℃)\"],ic='aic')"
   ]
  },
  {
   "cell_type": "markdown",
   "metadata": {},
   "source": [
    "### ARIMA、SARIMA、SARIMAX"
   ]
  },
  {
   "cell_type": "code",
   "execution_count": null,
   "metadata": {},
   "outputs": [],
   "source": [
    "#　月ごとに集計したデータも準備しておく\n",
    "df_month = df[\"2010\":\"2018\"].resample(\"M\").mean()\n",
    "df_month_all = df[\"2010\":\"2019\"].resample(\"M\").mean()\n",
    "\n",
    "df_month_pred = df[\"2019\"].resample(\"M\").mean()"
   ]
  },
  {
   "cell_type": "code",
   "execution_count": null,
   "metadata": {},
   "outputs": [],
   "source": [
    "from statsmodels.tsa.statespace.sarimax import SARIMAX\n",
    "\n",
    "y = df_month[\"平均気温(℃)\"]\n",
    "X = df_month[[\"降水量の合計(mm)\",\"日照時間(時間)\"]]\n",
    "sarima_model = sm.tsa.SARIMAX(y,X, order=(1,1,1),seasonal_order=(0,1,1,12))\n",
    "result = sarima_model.fit()\n",
    "\n",
    "result.summary()"
   ]
  },
  {
   "cell_type": "code",
   "execution_count": null,
   "metadata": {},
   "outputs": [],
   "source": []
  },
  {
   "cell_type": "markdown",
   "metadata": {},
   "source": [
    "### グリッドサーチ"
   ]
  },
  {
   "cell_type": "code",
   "execution_count": null,
   "metadata": {},
   "outputs": [],
   "source": [
    "import itertools\n",
    "\n",
    "p = q = range(0, 3)\n",
    "sp = sd = sq = range(0, 2)\n",
    "\n",
    "#p,q,sp,sd,sqの組み合わせのリストを作成する。和分=1,周期=12は固定\n",
    "pdq = [(x[0], 1, x[1]) for x in list(itertools.product(p, q))]\n",
    "seasonal_pdq = [(x[0], x[1], x[2], 12) for x in list(itertools.product(sp, sd, sq))]"
   ]
  },
  {
   "cell_type": "code",
   "execution_count": null,
   "metadata": {},
   "outputs": [],
   "source": []
  },
  {
   "cell_type": "code",
   "execution_count": null,
   "metadata": {},
   "outputs": [],
   "source": [
    "import warnings\n",
    "warnings.filterwarnings(\"ignore\")\n",
    "\n",
    "best_result = [0, 0, 10000000]\n",
    "for param in pdq:\n",
    "    for param_seasonal in seasonal_pdq:\n",
    "        try:\n",
    "            mod = SARIMAX(y, order = param, seasonal_order = param_seasonal)\n",
    "            results = mod.fit()\n",
    "            print('ARIMAパラメータ{}, 季節変動パラメータ{} - AIC: {}'.format(param, param_seasonal, results.aic))\n",
    "            \n",
    "            if results.aic < best_result[2]:\n",
    "                best_result = [param, param_seasonal, results.aic]\n",
    "        except:\n",
    "            continue\n",
    "\n",
    "print('AIC最小のモデル：', best_result)"
   ]
  },
  {
   "cell_type": "code",
   "execution_count": null,
   "metadata": {},
   "outputs": [],
   "source": []
  },
  {
   "cell_type": "markdown",
   "metadata": {},
   "source": [
    "### ホワイトノイズの確認"
   ]
  },
  {
   "cell_type": "code",
   "execution_count": null,
   "metadata": {},
   "outputs": [],
   "source": [
    "plt.rc(\"figure\",figsize=(20,10))\n",
    "result.plot_diagnostics(lags=12);"
   ]
  },
  {
   "cell_type": "code",
   "execution_count": null,
   "metadata": {},
   "outputs": [],
   "source": []
  },
  {
   "cell_type": "markdown",
   "metadata": {},
   "source": [
    "### 波形の予測"
   ]
  },
  {
   "cell_type": "code",
   "execution_count": null,
   "metadata": {},
   "outputs": [],
   "source": [
    "bestPred = result.predict('2018-12', '2019-12',exog=df_month_pred[[\"降水量の合計(mm)\",\"日照時間(時間)\"]])\n",
    "plt.plot(df_month_all[\"平均気温(℃)\"])\n",
    "plt.plot(bestPred, \"r\")"
   ]
  },
  {
   "cell_type": "code",
   "execution_count": null,
   "metadata": {},
   "outputs": [],
   "source": [
    "bestPred"
   ]
  },
  {
   "cell_type": "code",
   "execution_count": null,
   "metadata": {},
   "outputs": [],
   "source": []
  },
  {
   "cell_type": "code",
   "execution_count": null,
   "metadata": {},
   "outputs": [],
   "source": []
  }
 ],
 "metadata": {
  "kernelspec": {
   "display_name": "Python 3",
   "language": "python",
   "name": "python3"
  },
  "language_info": {
   "codemirror_mode": {
    "name": "ipython",
    "version": 3
   },
   "file_extension": ".py",
   "mimetype": "text/x-python",
   "name": "python",
   "nbconvert_exporter": "python",
   "pygments_lexer": "ipython3",
   "version": "3.7.4"
  }
 },
 "nbformat": 4,
 "nbformat_minor": 2
}
