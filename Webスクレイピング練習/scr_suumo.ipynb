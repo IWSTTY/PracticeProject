{
 "cells": [
  {
   "cell_type": "code",
   "execution_count": 32,
   "metadata": {},
   "outputs": [
    {
     "data": {
      "text/plain": [
       "str"
      ]
     },
     "execution_count": 32,
     "metadata": {},
     "output_type": "execute_result"
    }
   ],
   "source": [
    "import requests\n",
    "from bs4 import BeautifulSoup\n",
    "\n",
    "url = 'https://www.python.org/'\n",
    "r = requests.get(url)\n",
    "type(r.text)"
   ]
  },
  {
   "cell_type": "code",
   "execution_count": 37,
   "metadata": {},
   "outputs": [
    {
     "data": {
      "text/plain": [
       "['Get Started',\n",
       " 'Download',\n",
       " 'Docs',\n",
       " 'Jobs',\n",
       " 'Latest News',\n",
       " 'Upcoming Events',\n",
       " 'Success Stories',\n",
       " 'Use Python for…',\n",
       " '\\n>>> Python Enhancement Proposals (PEPs): The future of Python is discussed here.\\n RSS\\n',\n",
       " '\\n>>> Python Software Foundation\\n']"
      ]
     },
     "execution_count": 37,
     "metadata": {},
     "output_type": "execute_result"
    }
   ],
   "source": [
    "soup = BeautifulSoup(r.text)\n",
    "soup.find_all('h2')[0]\n",
    "\n",
    "h2_text_List =[]\n",
    "for h2_tag in soup.find_all('h2'):\n",
    "    h2_text_List.append(h2_tag.text)\n",
    "\n",
    "h2_text_List"
   ]
  },
  {
   "cell_type": "code",
   "execution_count": 38,
   "metadata": {},
   "outputs": [
    {
     "data": {
      "text/plain": [
       "['Get Started',\n",
       " 'Download',\n",
       " 'Docs',\n",
       " 'Jobs',\n",
       " 'Latest News',\n",
       " 'Upcoming Events',\n",
       " 'Success Stories',\n",
       " 'Use Python for…',\n",
       " '\\n>>> Python Enhancement Proposals (PEPs): The future of Python is discussed here.\\n RSS\\n',\n",
       " '\\n>>> Python Software Foundation\\n']"
      ]
     },
     "execution_count": 38,
     "metadata": {},
     "output_type": "execute_result"
    }
   ],
   "source": [
    "h2_text_List =[h2_tag.text for h2_tag in soup.find_all('h2')]\n",
    "\n",
    "h2_text_List"
   ]
  },
  {
   "cell_type": "code",
   "execution_count": 40,
   "metadata": {},
   "outputs": [
    {
     "data": {
      "text/plain": [
       "[<span class=\"message\">Launch Interactive Shell</span>,\n",
       " <span class=\"say-no-more\">2022-</span>,\n",
       " <span class=\"say-no-more\">2022-</span>,\n",
       " <span class=\"say-no-more\">2022-</span>,\n",
       " <span class=\"say-no-more\">2022-</span>,\n",
       " <span class=\"say-no-more\">2022-</span>,\n",
       " <span class=\"say-no-more\">2022-</span>,\n",
       " <span class=\"say-no-more\">2022-</span>,\n",
       " <span class=\"say-no-more\">2022-</span>,\n",
       " <span class=\"say-no-more\">2022-</span>,\n",
       " <span class=\"say-no-more\">2022-</span>,\n",
       " <span class=\"say-no-more\"> (PEPs)</span>,\n",
       " <span class=\"say-no-more\"> is discussed here.</span>,\n",
       " <span class=\"say-no-more\">General</span>,\n",
       " <span class=\"say-no-more\">Initiatives</span>]"
      ]
     },
     "execution_count": 40,
     "metadata": {},
     "output_type": "execute_result"
    }
   ],
   "source": [
    "soup.find_all('span', class_='say-no-more')\n",
    "soup.find_all('span', class_=['say-no-more', 'message'])"
   ]
  },
  {
   "cell_type": "code",
   "execution_count": 42,
   "metadata": {},
   "outputs": [
    {
     "data": {
      "text/plain": [
       "['【厳選3冊】Webスクレイピング(Python)でおすすめの本【実務OK】',\n",
       " 'おすすめ① : Python2年生 スクレイピングのしくみ 体験してわかる！会話でまなべる！',\n",
       " 'おすすめ② : Pythonクローリング&スクレイピング[増補改訂版]',\n",
       " 'おすすめ③ : PythonによるWebスクレイピング 第2版',\n",
       " 'Webスクレイピング学習でPython以外に学ぶべきこと3つ',\n",
       " '学ぶべきこと① : HTML, CSS',\n",
       " '学ぶべきこと② : JavaScript',\n",
       " '学ぶべきこと③ : Web周辺の知識',\n",
       " 'まとめ : まずは無料でPythonとスクレイピングを学ぼう【本より分かりやすい】',\n",
       " '関連記事']"
      ]
     },
     "execution_count": 42,
     "metadata": {},
     "output_type": "execute_result"
    }
   ],
   "source": [
    "url2 = 'https://tech-diary.net/python-scraping-books/'\n",
    "r = requests.get(url2)\n",
    "soup = BeautifulSoup(r.text)\n",
    "\n",
    "header_2_and_3 = [tag.text for tag in soup.find('article').find_all(['h2','h3'])]\n",
    "header_2_and_3\n",
    "\n"
   ]
  },
  {
   "cell_type": "code",
   "execution_count": 45,
   "metadata": {},
   "outputs": [
    {
     "name": "stdout",
     "output_type": "stream",
     "text": [
      "https://suumo.jp/chintai/tokyo/sc_shinjuku/?page=1\n"
     ]
    }
   ],
   "source": [
    "url = 'https://suumo.jp/chintai/tokyo/sc_shinjuku/?page={}'\n",
    "target_url = url.format(1)\n",
    "print(target_url)\n",
    "r = requests.get(target_url)\n",
    "soup = BeautifulSoup(r.text)"
   ]
  },
  {
   "cell_type": "code",
   "execution_count": 49,
   "metadata": {},
   "outputs": [],
   "source": [
    "contents = soup.find_all('div', class_='cassetteitem')\n",
    "content = contents[0]\n",
    "detail = content.find('div', class_ = 'cassetteitem-detail')\n",
    "table = content.find('table', class_ = 'cassetteitem_other')"
   ]
  },
  {
   "cell_type": "code",
   "execution_count": 51,
   "metadata": {},
   "outputs": [
    {
     "data": {
      "text/plain": [
       "<div class=\"cassetteitem-detail\">\n",
       "<div class=\"cassetteitem-detail-object\">\n",
       "<div class=\"cassetteitem_object\">\n",
       "<div class=\"cassetteitem_object-item\">\n",
       "<img alt=\"\" class=\"js-noContextMenu js-linkImage js-scrollLazy js-adjustImg\" height=\"0\" rel=\"https://img01.suumo.com/front/gazo/fr/bukken/456/100284721456/100284721456_gw.jpg\" src=\"data:image/gif;base64,R0lGODlhAQABAIAAAAAAAAAAACH5BAEAAAAALAAAAAABAAEAAAICRAEAOw%3D%3D\" width=\"0\"/>\n",
       "</div>\n",
       "</div>\n",
       "</div>\n",
       "<div class=\"cassetteitem-detail-body\">\n",
       "<div class=\"cassetteitem_content\">\n",
       "<div class=\"cassetteitem_content-label\"><span class=\"ui-pct ui-pct--util1\">賃貸マンション</span></div>\n",
       "<div class=\"cassetteitem_content-title\">グランハイツ高田馬場</div>\n",
       "<div class=\"cassetteitem_content-body\">\n",
       "<ul class=\"cassetteitem_detail\">\n",
       "<li class=\"cassetteitem_detail-col1\">東京都新宿区高田馬場３</li>\n",
       "<li class=\"cassetteitem_detail-col2\">\n",
       "<div class=\"cassetteitem_detail-text\">ＪＲ山手線/高田馬場駅 歩2分</div>\n",
       "<div class=\"cassetteitem_detail-text\">西武新宿線/下落合駅 歩12分</div>\n",
       "<div class=\"cassetteitem_detail-text\">ＪＲ山手線/目白駅 歩15分</div>\n",
       "</li>\n",
       "<li class=\"cassetteitem_detail-col3\">\n",
       "<div>築13年</div>\n",
       "<div>15階建</div>\n",
       "</li>\n",
       "</ul>\n",
       "</div>\n",
       "</div>\n",
       "</div>\n",
       "</div>"
      ]
     },
     "execution_count": 51,
     "metadata": {},
     "output_type": "execute_result"
    }
   ],
   "source": [
    "detail"
   ]
  },
  {
   "cell_type": "code",
   "execution_count": 57,
   "metadata": {},
   "outputs": [
    {
     "data": {
      "text/plain": [
       "('グランハイツ高田馬場',\n",
       " '東京都新宿区高田馬場３',\n",
       " '\\nＪＲ山手線/高田馬場駅 歩2分\\n西武新宿線/下落合駅 歩12分\\nＪＲ山手線/目白駅 歩15分\\n',\n",
       " '\\n築13年\\n15階建\\n')"
      ]
     },
     "execution_count": 57,
     "metadata": {},
     "output_type": "execute_result"
    }
   ],
   "source": [
    "title = detail.find('div', class_='cassetteitem_content-title').text\n",
    "address =detail.find('li', class_='cassetteitem_detail-col1').text\n",
    "access =detail.find('li', class_='cassetteitem_detail-col2').text\n",
    "age =detail.find('li', class_='cassetteitem_detail-col3').text\n",
    "title,address,access,age"
   ]
  },
  {
   "cell_type": "code",
   "execution_count": 60,
   "metadata": {},
   "outputs": [],
   "source": [
    "tr_tags = table.find_all('tr', class_ = 'js-cassette_link')\n",
    "tr_tag = tr_tags[0]"
   ]
  },
  {
   "cell_type": "code",
   "execution_count": 63,
   "metadata": {},
   "outputs": [],
   "source": [
    "floor, price, first_fee, capacity = tr_tag.find_all('td')[2:6]"
   ]
  },
  {
   "cell_type": "code",
   "execution_count": 66,
   "metadata": {},
   "outputs": [],
   "source": [
    "fee, management_fee = price.find_all('li')\n",
    "deposit, gratuity = first_fee.find_all('li')\n",
    "madori, menseki = capacity.find_all('li')"
   ]
  },
  {
   "cell_type": "code",
   "execution_count": 69,
   "metadata": {},
   "outputs": [
    {
     "name": "stdout",
     "output_type": "stream",
     "text": [
      "<li><span class=\"cassetteitem_price cassetteitem_price--rent\"><span class=\"cassetteitem_other-emphasis ui-text--bold\">11.8万円</span></span></li>\n",
      "<li><span class=\"cassetteitem_price cassetteitem_price--administration\">15000円</span></li>\n",
      "-------------------\n",
      "<li><span class=\"cassetteitem_price cassetteitem_price--deposit\">11.8万円</span></li>\n",
      "<li><span class=\"cassetteitem_price cassetteitem_price--gratuity\">11.8万円</span></li>\n",
      "-------------------\n",
      "<li><span class=\"cassetteitem_madori\">1DK</span></li>\n",
      "<li><span class=\"cassetteitem_menseki\">32.77m<sup>2</sup></span></li>\n",
      "-------------------\n"
     ]
    }
   ],
   "source": [
    "print(fee)\n",
    "print(management_fee)\n",
    "print('-------------------')\n",
    "print(deposit)\n",
    "print(gratuity)\n",
    "print('-------------------')\n",
    "print(madori)\n",
    "print(menseki)\n",
    "print('-------------------')"
   ]
  },
  {
   "cell_type": "code",
   "execution_count": 70,
   "metadata": {},
   "outputs": [],
   "source": [
    "d = {\n",
    "    'title':title,\n",
    "    'address':address,\n",
    "    'access':access,\n",
    "    'age':age,\n",
    "    'floor':floor.text,\n",
    "    'fee':fee.text,\n",
    "    'management_fee':management_fee.text,\n",
    "    'deposit':deposit.text,\n",
    "    'madori':madori.text,\n",
    "    'menseki':menseki.text\n",
    "}"
   ]
  },
  {
   "cell_type": "code",
   "execution_count": 71,
   "metadata": {},
   "outputs": [
    {
     "data": {
      "text/plain": [
       "{'title': 'グランハイツ高田馬場',\n",
       " 'address': '東京都新宿区高田馬場３',\n",
       " 'access': '\\nＪＲ山手線/高田馬場駅 歩2分\\n西武新宿線/下落合駅 歩12分\\nＪＲ山手線/目白駅 歩15分\\n',\n",
       " 'age': '\\n築13年\\n15階建\\n',\n",
       " 'floor': '\\r\\n\\t\\t\\t\\t\\t\\t\\t\\t\\t\\t\\t5階',\n",
       " 'fee': '11.8万円',\n",
       " 'management_fee': '15000円',\n",
       " 'deposit': '11.8万円',\n",
       " 'madori': '1DK',\n",
       " 'menseki': '32.77m2'}"
      ]
     },
     "execution_count": 71,
     "metadata": {},
     "output_type": "execute_result"
    }
   ],
   "source": [
    "d"
   ]
  },
  {
   "cell_type": "code",
   "execution_count": 5,
   "metadata": {},
   "outputs": [
    {
     "name": "stdout",
     "output_type": "stream",
     "text": [
      "https://suumo.jp/chintai/tokyo/sc_shinjuku/?page=1\n"
     ]
    }
   ],
   "source": [
    "import requests\n",
    "from bs4 import BeautifulSoup\n",
    "from pprint import pprint\n",
    "\n",
    "url = 'https://suumo.jp/chintai/tokyo/sc_shinjuku/?page={}'\n",
    "target_url = url.format(1)\n",
    "print(target_url)\n",
    "r = requests.get(target_url)\n",
    "soup = BeautifulSoup(r.text)\n",
    "\n",
    "d_list = []\n",
    "contents = soup.find_all('div', class_='cassetteitem')\n",
    "\n",
    "for content in contents:\n",
    "    detail = content.find('div', class_ = 'cassetteitem-detail')\n",
    "    table = content.find('table', class_ = 'cassetteitem_other')\n",
    "    title = detail.find('div', class_='cassetteitem_content-title').text\n",
    "    address =detail.find('li', class_='cassetteitem_detail-col1').text\n",
    "    access =detail.find('li', class_='cassetteitem_detail-col2').text\n",
    "    age =detail.find('li', class_='cassetteitem_detail-col3').text\n",
    "    \n",
    "    tr_tags = table.find_all('tr', class_ = 'js-cassette_link')\n",
    "    tr_tag = tr_tags[0]\n",
    "    floor, price, first_fee, capacity = tr_tag.find_all('td')[2:6]\n",
    "    \n",
    "    fee, management_fee = price.find_all('li')\n",
    "    deposit, gratuity = first_fee.find_all('li')\n",
    "    madori, menseki = capacity.find_all('li')\n",
    "\n",
    "    d = {\n",
    "        'title':title,\n",
    "        'address':address,\n",
    "        'access':access,\n",
    "        'age':age,\n",
    "        'floor':floor.text,\n",
    "        'fee':fee.text,\n",
    "        'management_fee':management_fee.text,\n",
    "        'deposit':deposit.text,\n",
    "        'madori':madori.text,\n",
    "        'menseki':menseki.text\n",
    "    }\n",
    "    \n",
    "    d_list.append(d)"
   ]
  },
  {
   "cell_type": "code",
   "execution_count": 2,
   "metadata": {},
   "outputs": [],
   "source": [
    "from pprint import pprint\n"
   ]
  },
  {
   "cell_type": "code",
   "execution_count": 6,
   "metadata": {},
   "outputs": [
    {
     "name": "stdout",
     "output_type": "stream",
     "text": [
      "{'access': '\\nＪＲ山手線/高田馬場駅 歩2分\\n東京メトロ東西線/高田馬場駅 歩2分\\n東京メトロ副都心線/西早稲田駅 歩15分\\n',\n",
      " 'address': '東京都新宿区高田馬場３',\n",
      " 'age': '\\n築13年\\n15階建\\n',\n",
      " 'deposit': '11.8万円',\n",
      " 'fee': '11.8万円',\n",
      " 'floor': '\\r\\n\\t\\t\\t\\t\\t\\t\\t\\t\\t\\t\\t5階',\n",
      " 'madori': '1DK',\n",
      " 'management_fee': '15000円',\n",
      " 'menseki': '32.77m2',\n",
      " 'title': 'グランハイツ高田馬場'}\n",
      "--------------------------------------------------------\n",
      "{'access': '\\n都営大江戸線/西新宿五丁目駅 歩5分\\n京王新線/初台駅 歩11分\\nＪＲ山手線/新宿駅 歩15分\\n',\n",
      " 'address': '東京都新宿区西新宿４',\n",
      " 'age': '\\n築27年\\n3階建\\n',\n",
      " 'deposit': '48万円',\n",
      " 'fee': '48万円',\n",
      " 'floor': '\\r\\n\\t\\t\\t\\t\\t\\t\\t\\t\\t\\t\\t1-3階',\n",
      " 'madori': '7LDK',\n",
      " 'management_fee': '-',\n",
      " 'menseki': '130.47m2',\n",
      " 'title': '都営大江戸線 西新宿五丁目駅 3階建 築27年'}\n"
     ]
    }
   ],
   "source": [
    "pprint(d_list[0])\n",
    "print('--------------'*4)\n",
    "pprint(d_list[1])"
   ]
  },
  {
   "cell_type": "code",
   "execution_count": 17,
   "metadata": {},
   "outputs": [],
   "source": [
    "from time import sleep\n",
    "\n",
    "url = 'https://suumo.jp/chintai/tokyo/sc_shinjuku/?page={}'\n",
    "\n",
    "d_list = []"
   ]
  },
  {
   "cell_type": "code",
   "execution_count": 18,
   "metadata": {},
   "outputs": [
    {
     "name": "stdout",
     "output_type": "stream",
     "text": [
      "https://suumo.jp/chintai/tokyo/sc_shinjuku/?page=1\n",
      "d_listの大きさ: 0\n",
      "https://suumo.jp/chintai/tokyo/sc_shinjuku/?page=2\n",
      "d_listの大きさ: 20\n",
      "https://suumo.jp/chintai/tokyo/sc_shinjuku/?page=3\n",
      "d_listの大きさ: 40\n"
     ]
    }
   ],
   "source": [
    "for i in range(1,4):\n",
    "    target_url = url.format(i)\n",
    "    print(target_url)\n",
    "    print('d_listの大きさ:', len(d_list))\n",
    "\n",
    "    r = requests.get(target_url)\n",
    "    sleep(1)\n",
    "    soup = BeautifulSoup(r.text)\n",
    "    \n",
    "    contents = soup.find_all('div', class_='cassetteitem')\n",
    "\n",
    "    for content in contents:\n",
    "        detail = content.find('div', class_ = 'cassetteitem-detail')\n",
    "        table = content.find('table', class_ = 'cassetteitem_other')\n",
    "        title = detail.find('div', class_='cassetteitem_content-title').text\n",
    "        address =detail.find('li', class_='cassetteitem_detail-col1').text\n",
    "        access =detail.find('li', class_='cassetteitem_detail-col2').text\n",
    "        age =detail.find('li', class_='cassetteitem_detail-col3').text\n",
    "        \n",
    "        tr_tags = table.find_all('tr', class_ = 'js-cassette_link')\n",
    "        tr_tag = tr_tags[0]\n",
    "        floor, price, first_fee, capacity = tr_tag.find_all('td')[2:6]\n",
    "        \n",
    "        fee, management_fee = price.find_all('li')\n",
    "        deposit, gratuity = first_fee.find_all('li')\n",
    "        madori, menseki = capacity.find_all('li')\n",
    "\n",
    "        d = {\n",
    "            'title':title,\n",
    "            'address':address,\n",
    "            'access':access,\n",
    "            'age':age,\n",
    "            'floor':floor.text,\n",
    "            'fee':fee.text,\n",
    "            'management_fee':management_fee.text,\n",
    "            'deposit':deposit.text,\n",
    "            'madori':madori.text,\n",
    "            'menseki':menseki.text\n",
    "        }\n",
    "        \n",
    "        d_list.append(d)"
   ]
  },
  {
   "cell_type": "code",
   "execution_count": 19,
   "metadata": {},
   "outputs": [
    {
     "data": {
      "text/plain": [
       "{'title': 'セントラルプレイス新宿御苑前',\n",
       " 'address': '東京都新宿区新宿１',\n",
       " 'access': '\\n東京メトロ丸ノ内線/新宿御苑前駅 歩4分\\n都営新宿線/新宿三丁目駅 歩7分\\nＪＲ山手線/新宿駅 歩15分\\n',\n",
       " 'age': '\\n築9年\\n15階建\\n',\n",
       " 'floor': '\\r\\n\\t\\t\\t\\t\\t\\t\\t\\t\\t\\t\\t11階',\n",
       " 'fee': '12.3万円',\n",
       " 'management_fee': '8000円',\n",
       " 'deposit': '12.3万円',\n",
       " 'madori': 'ワンルーム',\n",
       " 'menseki': '26.32m2'}"
      ]
     },
     "execution_count": 19,
     "metadata": {},
     "output_type": "execute_result"
    }
   ],
   "source": [
    "d_list[-1]\n"
   ]
  },
  {
   "cell_type": "code",
   "execution_count": 20,
   "metadata": {},
   "outputs": [
    {
     "data": {
      "text/html": [
       "<div>\n",
       "<style scoped>\n",
       "    .dataframe tbody tr th:only-of-type {\n",
       "        vertical-align: middle;\n",
       "    }\n",
       "\n",
       "    .dataframe tbody tr th {\n",
       "        vertical-align: top;\n",
       "    }\n",
       "\n",
       "    .dataframe thead th {\n",
       "        text-align: right;\n",
       "    }\n",
       "</style>\n",
       "<table border=\"1\" class=\"dataframe\">\n",
       "  <thead>\n",
       "    <tr style=\"text-align: right;\">\n",
       "      <th></th>\n",
       "      <th>title</th>\n",
       "      <th>address</th>\n",
       "      <th>access</th>\n",
       "      <th>age</th>\n",
       "      <th>floor</th>\n",
       "      <th>fee</th>\n",
       "      <th>management_fee</th>\n",
       "      <th>deposit</th>\n",
       "      <th>madori</th>\n",
       "      <th>menseki</th>\n",
       "    </tr>\n",
       "  </thead>\n",
       "  <tbody>\n",
       "    <tr>\n",
       "      <th>0</th>\n",
       "      <td>グランハイツ高田馬場</td>\n",
       "      <td>東京都新宿区高田馬場３</td>\n",
       "      <td>\\nＪＲ山手線/高田馬場駅 歩2分\\n東京メトロ東西線/高田馬場駅 歩2分\\n東京メトロ副都...</td>\n",
       "      <td>\\n築13年\\n15階建\\n</td>\n",
       "      <td>\\r\\n\\t\\t\\t\\t\\t\\t\\t\\t\\t\\t\\t5階</td>\n",
       "      <td>11.8万円</td>\n",
       "      <td>15000円</td>\n",
       "      <td>11.8万円</td>\n",
       "      <td>1DK</td>\n",
       "      <td>32.77m2</td>\n",
       "    </tr>\n",
       "    <tr>\n",
       "      <th>1</th>\n",
       "      <td>都営大江戸線 西新宿五丁目駅 3階建 築27年</td>\n",
       "      <td>東京都新宿区西新宿４</td>\n",
       "      <td>\\n都営大江戸線/西新宿五丁目駅 歩5分\\n京王新線/初台駅 歩11分\\nＪＲ山手線/新宿駅...</td>\n",
       "      <td>\\n築27年\\n3階建\\n</td>\n",
       "      <td>\\r\\n\\t\\t\\t\\t\\t\\t\\t\\t\\t\\t\\t1-3階</td>\n",
       "      <td>48万円</td>\n",
       "      <td>-</td>\n",
       "      <td>48万円</td>\n",
       "      <td>7LDK</td>\n",
       "      <td>130.47m2</td>\n",
       "    </tr>\n",
       "    <tr>\n",
       "      <th>2</th>\n",
       "      <td>ドゥーエ早稲田</td>\n",
       "      <td>東京都新宿区西早稲田２</td>\n",
       "      <td>\\n東京メトロ東西線/早稲田駅 歩6分\\n東京メトロ副都心線/西早稲田駅 歩8分\\n都営大江...</td>\n",
       "      <td>\\n築2年\\n地下1地上10階建\\n</td>\n",
       "      <td>\\r\\n\\t\\t\\t\\t\\t\\t\\t\\t\\t\\t\\t2階</td>\n",
       "      <td>15.4万円</td>\n",
       "      <td>10000円</td>\n",
       "      <td>15.4万円</td>\n",
       "      <td>1LDK</td>\n",
       "      <td>35.55m2</td>\n",
       "    </tr>\n",
       "    <tr>\n",
       "      <th>3</th>\n",
       "      <td>ブリリア外苑出羽坂</td>\n",
       "      <td>東京都新宿区南元町</td>\n",
       "      <td>\\nＪＲ中央線/信濃町駅 歩5分\\n都営大江戸線/国立競技場駅 歩11分\\n東京メトロ丸ノ内...</td>\n",
       "      <td>\\n築17年\\n地下1地上6階建\\n</td>\n",
       "      <td>\\r\\n\\t\\t\\t\\t\\t\\t\\t\\t\\t\\t\\t1階</td>\n",
       "      <td>21.9万円</td>\n",
       "      <td>9000円</td>\n",
       "      <td>21.9万円</td>\n",
       "      <td>1LDK</td>\n",
       "      <td>53.27m2</td>\n",
       "    </tr>\n",
       "    <tr>\n",
       "      <th>4</th>\n",
       "      <td>ロイヤルシーズン新宿柏木</td>\n",
       "      <td>東京都新宿区北新宿１</td>\n",
       "      <td>\\nＪＲ中央線/大久保駅 歩5分\\nＪＲ山手線/新大久保駅 歩9分\\n東京メトロ丸ノ内線/西...</td>\n",
       "      <td>\\n築8年\\n6階建\\n</td>\n",
       "      <td>\\r\\n\\t\\t\\t\\t\\t\\t\\t\\t\\t\\t\\t3階</td>\n",
       "      <td>24万円</td>\n",
       "      <td>-</td>\n",
       "      <td>48万円</td>\n",
       "      <td>2LDK</td>\n",
       "      <td>54.98m2</td>\n",
       "    </tr>\n",
       "  </tbody>\n",
       "</table>\n",
       "</div>"
      ],
      "text/plain": [
       "                     title      address  \\\n",
       "0               グランハイツ高田馬場  東京都新宿区高田馬場３   \n",
       "1  都営大江戸線 西新宿五丁目駅 3階建 築27年   東京都新宿区西新宿４   \n",
       "2                  ドゥーエ早稲田  東京都新宿区西早稲田２   \n",
       "3                ブリリア外苑出羽坂    東京都新宿区南元町   \n",
       "4             ロイヤルシーズン新宿柏木   東京都新宿区北新宿１   \n",
       "\n",
       "                                              access                 age  \\\n",
       "0  \\nＪＲ山手線/高田馬場駅 歩2分\\n東京メトロ東西線/高田馬場駅 歩2分\\n東京メトロ副都...      \\n築13年\\n15階建\\n   \n",
       "1  \\n都営大江戸線/西新宿五丁目駅 歩5分\\n京王新線/初台駅 歩11分\\nＪＲ山手線/新宿駅...       \\n築27年\\n3階建\\n   \n",
       "2  \\n東京メトロ東西線/早稲田駅 歩6分\\n東京メトロ副都心線/西早稲田駅 歩8分\\n都営大江...  \\n築2年\\n地下1地上10階建\\n   \n",
       "3  \\nＪＲ中央線/信濃町駅 歩5分\\n都営大江戸線/国立競技場駅 歩11分\\n東京メトロ丸ノ内...  \\n築17年\\n地下1地上6階建\\n   \n",
       "4  \\nＪＲ中央線/大久保駅 歩5分\\nＪＲ山手線/新大久保駅 歩9分\\n東京メトロ丸ノ内線/西...        \\n築8年\\n6階建\\n   \n",
       "\n",
       "                            floor     fee management_fee deposit madori  \\\n",
       "0    \\r\\n\\t\\t\\t\\t\\t\\t\\t\\t\\t\\t\\t5階  11.8万円         15000円  11.8万円    1DK   \n",
       "1  \\r\\n\\t\\t\\t\\t\\t\\t\\t\\t\\t\\t\\t1-3階    48万円              -    48万円   7LDK   \n",
       "2    \\r\\n\\t\\t\\t\\t\\t\\t\\t\\t\\t\\t\\t2階  15.4万円         10000円  15.4万円   1LDK   \n",
       "3    \\r\\n\\t\\t\\t\\t\\t\\t\\t\\t\\t\\t\\t1階  21.9万円          9000円  21.9万円   1LDK   \n",
       "4    \\r\\n\\t\\t\\t\\t\\t\\t\\t\\t\\t\\t\\t3階    24万円              -    48万円   2LDK   \n",
       "\n",
       "    menseki  \n",
       "0   32.77m2  \n",
       "1  130.47m2  \n",
       "2   35.55m2  \n",
       "3   53.27m2  \n",
       "4   54.98m2  "
      ]
     },
     "execution_count": 20,
     "metadata": {},
     "output_type": "execute_result"
    }
   ],
   "source": [
    "import pandas as pd\n",
    "\n",
    "df = pd.DataFrame(d_list)\n",
    "df.head(5)"
   ]
  },
  {
   "cell_type": "code",
   "execution_count": 21,
   "metadata": {},
   "outputs": [
    {
     "data": {
      "text/plain": [
       "(60, 10)"
      ]
     },
     "execution_count": 21,
     "metadata": {},
     "output_type": "execute_result"
    }
   ],
   "source": [
    "df.shape"
   ]
  },
  {
   "cell_type": "code",
   "execution_count": 22,
   "metadata": {},
   "outputs": [
    {
     "data": {
      "text/plain": [
       "60"
      ]
     },
     "execution_count": 22,
     "metadata": {},
     "output_type": "execute_result"
    }
   ],
   "source": [
    "len(df.title.unique())"
   ]
  },
  {
   "cell_type": "code",
   "execution_count": 25,
   "metadata": {},
   "outputs": [],
   "source": [
    "df.to_csv('test00.csv',index=None,encoding='utf-8-sig')"
   ]
  },
  {
   "cell_type": "code",
   "execution_count": null,
   "metadata": {},
   "outputs": [],
   "source": []
  }
 ],
 "metadata": {
  "interpreter": {
   "hash": "6b0b6d9e910a15178f1e840a606f2852b60b786dca6f87df6b44e25b91527bb6"
  },
  "kernelspec": {
   "display_name": "Python 3.9.7 ('base')",
   "language": "python",
   "name": "python3"
  },
  "language_info": {
   "codemirror_mode": {
    "name": "ipython",
    "version": 3
   },
   "file_extension": ".py",
   "mimetype": "text/x-python",
   "name": "python",
   "nbconvert_exporter": "python",
   "pygments_lexer": "ipython3",
   "version": "3.9.7"
  },
  "orig_nbformat": 4
 },
 "nbformat": 4,
 "nbformat_minor": 2
}
