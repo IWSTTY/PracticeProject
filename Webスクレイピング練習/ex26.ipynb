{
 "cells": [
  {
   "cell_type": "code",
   "execution_count": 1,
   "metadata": {},
   "outputs": [],
   "source": [
    "from selenium import webdriver\n",
    "from time import sleep"
   ]
  },
  {
   "cell_type": "code",
   "execution_count": 7,
   "metadata": {},
   "outputs": [
    {
     "name": "stderr",
     "output_type": "stream",
     "text": [
      "C:\\Users\\hahih\\AppData\\Local\\Temp/ipykernel_1344/3932530221.py:3: DeprecationWarning: executable_path has been deprecated, please pass in a Service object\n",
      "  browser = webdriver.Chrome(CrPh)\n"
     ]
    }
   ],
   "source": [
    "##\n",
    "CrPh=r'C://Users//hahih//Documents//MyPython//chromedriver'\n",
    "browser = webdriver.Chrome(CrPh)\n",
    "browser.get('https://scraping-for-beginner.herokuapp.com/login_page')"
   ]
  },
  {
   "cell_type": "code",
   "execution_count": 16,
   "metadata": {},
   "outputs": [
    {
     "name": "stderr",
     "output_type": "stream",
     "text": [
      "C:\\Users\\hahih\\AppData\\Local\\Temp/ipykernel_1344/2304719333.py:10: DeprecationWarning: executable_path has been deprecated, please pass in a Service object\n",
      "  browser = webdriver.Chrome(CrPh)\n",
      "C:\\Users\\hahih\\AppData\\Local\\Temp/ipykernel_1344/2304719333.py:15: DeprecationWarning: find_element_by_* commands are deprecated. Please use find_element() instead\n",
      "  elem_username = browser.find_element_by_id('username')\n",
      "C:\\Users\\hahih\\AppData\\Local\\Temp/ipykernel_1344/2304719333.py:18: DeprecationWarning: find_element_by_* commands are deprecated. Please use find_element() instead\n",
      "  elem_password = browser.find_element_by_id('password')\n",
      "C:\\Users\\hahih\\AppData\\Local\\Temp/ipykernel_1344/2304719333.py:21: DeprecationWarning: find_element_by_* commands are deprecated. Please use find_element() instead\n",
      "  elem_login_btn = browser.find_element_by_id('login-btn')\n"
     ]
    }
   ],
   "source": [
    "from selenium import webdriver\n",
    "from time import sleep\n",
    "from selenium.webdriver.chrome.options import Options\n",
    "\n",
    "options = Options()\n",
    "options.add_argument('--headless')\n",
    "\n",
    "#URL\n",
    "CrPh=r'C://Users//hahih//Documents//MyPython//chromedriver'\n",
    "browser = webdriver.Chrome(CrPh)\n",
    "# browser = webdriver.Chrome(CrPh,options=options)#ﾍｯﾄﾞﾚｽﾓｰﾄﾞ\n",
    "browser.get('https://scraping-for-beginner.herokuapp.com/login_page')\n",
    "\n",
    "## idとpw入力してログイン\n",
    "elem_username = browser.find_element_by_id('userbirthday')\n",
    "elem_username.send_keys('imanishi')\n",
    "\n",
    "elem_password = browser.find_element_by_id('password')\n",
    "elem_password.send_keys('kohei')\n",
    "\n",
    "elem_login_btn = browser.find_element_by_id('login-btn')\n",
    "elem_login_btn.click()\n",
    "\n",
    "#情報取得\n",
    "\n",
    "\n",
    "# sleep(3)\n",
    "# browser.quit()"
   ]
  },
  {
   "cell_type": "code",
   "execution_count": 27,
   "metadata": {},
   "outputs": [
    {
     "name": "stderr",
     "output_type": "stream",
     "text": [
      "C:\\Users\\hahih\\AppData\\Local\\Temp/ipykernel_1344/3925182157.py:2: DeprecationWarning: find_element_by_* commands are deprecated. Please use find_element() instead\n",
      "  elem_name = browser.find_element_by_id('name')\n",
      "C:\\Users\\hahih\\AppData\\Local\\Temp/ipykernel_1344/3925182157.py:5: DeprecationWarning: find_element_by_* commands are deprecated. Please use find_element() instead\n",
      "  elem_company = browser.find_element_by_id('company')\n",
      "C:\\Users\\hahih\\AppData\\Local\\Temp/ipykernel_1344/3925182157.py:8: DeprecationWarning: find_element_by_* commands are deprecated. Please use find_element() instead\n",
      "  elem_birthday = browser.find_element_by_id('birthday')\n",
      "C:\\Users\\hahih\\AppData\\Local\\Temp/ipykernel_1344/3925182157.py:11: DeprecationWarning: find_element_by_* commands are deprecated. Please use find_element() instead\n",
      "  elem_come_from = browser.find_element_by_id('come_from')\n",
      "C:\\Users\\hahih\\AppData\\Local\\Temp/ipykernel_1344/3925182157.py:14: DeprecationWarning: find_element_by_* commands are deprecated. Please use find_element() instead\n",
      "  elem_hobby = browser.find_element_by_id('hobby')\n"
     ]
    },
    {
     "data": {
      "text/plain": [
       "('今西 航平', '株式会社キカガク', '1994年7月15日', '千葉県', 'バスケットボール\\n読書\\nガジェット集め')"
      ]
     },
     "execution_count": 27,
     "metadata": {},
     "output_type": "execute_result"
    }
   ],
   "source": [
    "#情報取得\n",
    "elem_name = browser.find_element_by_id('name')\n",
    "name = elem_name.text\n",
    "\n",
    "elem_company = browser.find_element_by_id('company')\n",
    "company = elem_company.text\n",
    "\n",
    "elem_birthday = browser.find_element_by_id('birthday')\n",
    "birthday = elem_birthday.text\n",
    "\n",
    "elem_come_from = browser.find_element_by_id('come_from')\n",
    "come_from = elem_come_from.text\n",
    "\n",
    "elem_hobby = browser.find_element_by_id('hobby')\n",
    "hobby = elem_hobby.text\n",
    "\n",
    "name,company,birthday,come_from,hobby"
   ]
  },
  {
   "cell_type": "code",
   "execution_count": 36,
   "metadata": {},
   "outputs": [
    {
     "name": "stderr",
     "output_type": "stream",
     "text": [
      "C:\\Users\\hahih\\AppData\\Local\\Temp/ipykernel_1344/1051641009.py:1: DeprecationWarning: find_elements_by_tag_name is deprecated. Please use find_elements(by=By.TAG_NAME, value=name) instead\n",
      "  elems_th = browser.find_elements_by_tag_name('th')\n"
     ]
    },
    {
     "data": {
      "text/plain": [
       "'講師名'"
      ]
     },
     "execution_count": 36,
     "metadata": {},
     "output_type": "execute_result"
    }
   ],
   "source": [
    "elems_th = browser.find_elements_by_tag_name('th')\n",
    "elems_th[0].text"
   ]
  },
  {
   "cell_type": "code",
   "execution_count": 40,
   "metadata": {},
   "outputs": [
    {
     "name": "stderr",
     "output_type": "stream",
     "text": [
      "C:\\Users\\hahih\\AppData\\Local\\Temp/ipykernel_1344/405327525.py:1: DeprecationWarning: find_elements_by_tag_name is deprecated. Please use find_elements(by=By.TAG_NAME, value=name) instead\n",
      "  elems_th = browser.find_elements_by_tag_name('th')\n",
      "C:\\Users\\hahih\\AppData\\Local\\Temp/ipykernel_1344/405327525.py:7: DeprecationWarning: find_elements_by_tag_name is deprecated. Please use find_elements(by=By.TAG_NAME, value=name) instead\n",
      "  elems_td = browser.find_elements_by_tag_name('td')\n"
     ]
    }
   ],
   "source": [
    "#情報取得（一括）\n",
    "elems_th = browser.find_elements_by_tag_name('th')\n",
    "keys = []\n",
    "for elem_th in elems_th:\n",
    "    key = elem_th.text\n",
    "    keys.append(key)\n",
    "\n",
    "elems_td = browser.find_elements_by_tag_name('td')\n",
    "values = []\n",
    "for elem_td in elems_td:\n",
    "    value = elem_td.text\n",
    "    values.append(value)\n"
   ]
  },
  {
   "cell_type": "code",
   "execution_count": 42,
   "metadata": {},
   "outputs": [],
   "source": [
    "import pandas as pd"
   ]
  },
  {
   "cell_type": "code",
   "execution_count": 47,
   "metadata": {},
   "outputs": [],
   "source": [
    "import pandas as pd\n",
    "\n",
    "df = pd.DataFrame()\n",
    "df['項目'] = keys\n",
    "df['値'] = values\n",
    "\n",
    "df.to_csv('講師情報.csv',index=False, encoding='utf_8_sig')"
   ]
  },
  {
   "cell_type": "code",
   "execution_count": 45,
   "metadata": {},
   "outputs": [
    {
     "data": {
      "text/html": [
       "<div>\n",
       "<style scoped>\n",
       "    .dataframe tbody tr th:only-of-type {\n",
       "        vertical-align: middle;\n",
       "    }\n",
       "\n",
       "    .dataframe tbody tr th {\n",
       "        vertical-align: top;\n",
       "    }\n",
       "\n",
       "    .dataframe thead th {\n",
       "        text-align: right;\n",
       "    }\n",
       "</style>\n",
       "<table border=\"1\" class=\"dataframe\">\n",
       "  <thead>\n",
       "    <tr style=\"text-align: right;\">\n",
       "      <th></th>\n",
       "      <th>項目</th>\n",
       "      <th>値</th>\n",
       "    </tr>\n",
       "  </thead>\n",
       "  <tbody>\n",
       "    <tr>\n",
       "      <th>0</th>\n",
       "      <td>講師名</td>\n",
       "      <td>今西 航平</td>\n",
       "    </tr>\n",
       "    <tr>\n",
       "      <th>1</th>\n",
       "      <td>所属企業</td>\n",
       "      <td>株式会社キカガク</td>\n",
       "    </tr>\n",
       "    <tr>\n",
       "      <th>2</th>\n",
       "      <td>生年月日</td>\n",
       "      <td>1994年7月15日</td>\n",
       "    </tr>\n",
       "    <tr>\n",
       "      <th>3</th>\n",
       "      <td>出身</td>\n",
       "      <td>千葉県</td>\n",
       "    </tr>\n",
       "    <tr>\n",
       "      <th>4</th>\n",
       "      <td>趣味</td>\n",
       "      <td>バスケットボール\\n読書\\nガジェット集め</td>\n",
       "    </tr>\n",
       "  </tbody>\n",
       "</table>\n",
       "</div>"
      ],
      "text/plain": [
       "     項目                      値\n",
       "0   講師名                  今西 航平\n",
       "1  所属企業               株式会社キカガク\n",
       "2  生年月日             1994年7月15日\n",
       "3    出身                    千葉県\n",
       "4    趣味  バスケットボール\\n読書\\nガジェット集め"
      ]
     },
     "execution_count": 45,
     "metadata": {},
     "output_type": "execute_result"
    }
   ],
   "source": [
    "df"
   ]
  },
  {
   "cell_type": "code",
   "execution_count": 48,
   "metadata": {},
   "outputs": [],
   "source": [
    "browser.quit()"
   ]
  },
  {
   "cell_type": "code",
   "execution_count": 1,
   "metadata": {},
   "outputs": [],
   "source": [
    "from selenium import webdriver\n",
    "from time import sleep\n",
    "from selenium.webdriver.chrome.options import Options"
   ]
  },
  {
   "cell_type": "code",
   "execution_count": 24,
   "metadata": {},
   "outputs": [
    {
     "name": "stderr",
     "output_type": "stream",
     "text": [
      "C:\\Users\\hahih\\AppData\\Local\\Temp/ipykernel_5628/318657721.py:5: DeprecationWarning: executable_path has been deprecated, please pass in a Service object\n",
      "  browser = webdriver.Chrome(CrPh)\n",
      "C:\\Users\\hahih\\AppData\\Local\\Temp/ipykernel_5628/318657721.py:9: DeprecationWarning: find_element_by_* commands are deprecated. Please use find_element() instead\n",
      "  elem_co_name = browser.find_element_by_id('cmp0a')\n",
      "C:\\Users\\hahih\\AppData\\Local\\Temp/ipykernel_5628/318657721.py:12: DeprecationWarning: find_element_by_* commands are deprecated. Please use find_element() instead\n",
      "  btn = browser.find_element_by_id('f13')\n"
     ]
    }
   ],
   "source": [
    "company_code = '1801.JP'\n",
    "\n",
    "#URL\n",
    "CrPh=r'C://Users//hahih//Documents//MyPython//chromedriver'\n",
    "browser = webdriver.Chrome(CrPh)\n",
    "# browser = webdriver.Chrome(CrPh,options=options)#ﾍｯﾄﾞﾚｽﾓｰﾄﾞ\n",
    "browser.get('https://stooq.pl/')\n",
    "\n",
    "elem_co_name = browser.find_element_by_id('cmp0a')\n",
    "elem_co_name.send_keys(f'{company_code}')\n",
    "\n",
    "btn = browser.find_element_by_id('f13')\n",
    "btn.click()\n"
   ]
  },
  {
   "cell_type": "code",
   "execution_count": 27,
   "metadata": {},
   "outputs": [],
   "source": [
    "browser.quit()\n"
   ]
  },
  {
   "cell_type": "code",
   "execution_count": 26,
   "metadata": {},
   "outputs": [
    {
     "name": "stderr",
     "output_type": "stream",
     "text": [
      "C:\\Users\\hahih\\AppData\\Local\\Temp/ipykernel_5628/988088776.py:1: DeprecationWarning: find_element_by_xpath is deprecated. Please use find_element(by=By.XPATH, value=xpath) instead\n",
      "  co_name = browser.find_element_by_xpath(\"/html/body/table/tbody/tr[2]/td[2]/table/tbody/tr/td/table/tbody/tr/td/table[3]/tbody/tr/td[2]/b/font\")\n"
     ]
    },
    {
     "data": {
      "text/plain": [
       "' Taisei Co. (1801.JP)'"
      ]
     },
     "execution_count": 26,
     "metadata": {},
     "output_type": "execute_result"
    }
   ],
   "source": [
    "co_name = browser.find_element_by_xpath(\"/html/body/table/tbody/tr[2]/td[2]/table/tbody/tr/td/table/tbody/tr/td/table[3]/tbody/tr/td[2]/b/font\")\n",
    "co_name.text"
   ]
  },
  {
   "cell_type": "code",
   "execution_count": null,
   "metadata": {},
   "outputs": [],
   "source": []
  }
 ],
 "metadata": {
  "interpreter": {
   "hash": "6b0b6d9e910a15178f1e840a606f2852b60b786dca6f87df6b44e25b91527bb6"
  },
  "kernelspec": {
   "display_name": "Python 3.9.7 ('base')",
   "language": "python",
   "name": "python3"
  },
  "language_info": {
   "codemirror_mode": {
    "name": "ipython",
    "version": 3
   },
   "file_extension": ".py",
   "mimetype": "text/x-python",
   "name": "python",
   "nbconvert_exporter": "python",
   "pygments_lexer": "ipython3",
   "version": "3.9.7"
  },
  "orig_nbformat": 4
 },
 "nbformat": 4,
 "nbformat_minor": 2
}
