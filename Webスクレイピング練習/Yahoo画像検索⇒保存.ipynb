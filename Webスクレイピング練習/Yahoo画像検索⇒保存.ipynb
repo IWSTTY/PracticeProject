{
 "cells": [
  {
   "cell_type": "code",
   "execution_count": 8,
   "metadata": {},
   "outputs": [
    {
     "name": "stderr",
     "output_type": "stream",
     "text": [
      "C:\\Users\\hahih\\AppData\\Local\\Temp/ipykernel_16584/3102488885.py:12: DeprecationWarning: executable_path has been deprecated, please pass in a Service object\n",
      "  driver = webdriver.Chrome(executable_path=chrome_path, options=options)\n",
      "C:\\Users\\hahih\\AppData\\Local\\Temp/ipykernel_16584/3102488885.py:18: DeprecationWarning: find_element_by_class_name is deprecated. Please use find_element(by=By.CLASS_NAME, value=name) instead\n",
      "  search_box = driver.find_element_by_class_name(\"SearchBox__searchInput\")\n"
     ]
    },
    {
     "name": "stdout",
     "output_type": "stream",
     "text": [
      "1100\n",
      "1200\n",
      "1300\n",
      "1400\n",
      "1500\n",
      "1600\n",
      "1700\n",
      "1800\n",
      "1900\n",
      "2000\n",
      "2100\n",
      "2200\n",
      "2300\n",
      "2400\n",
      "2500\n",
      "2600\n",
      "2700\n",
      "2800\n",
      "2900\n",
      "3000\n"
     ]
    },
    {
     "name": "stderr",
     "output_type": "stream",
     "text": [
      "C:\\Users\\hahih\\AppData\\Local\\Temp/ipykernel_16584/3102488885.py:34: DeprecationWarning: find_elements_by_class_name is deprecated. Please use find_elements(by=By.CLASS_NAME, value=name) instead\n",
      "  elements = driver.find_elements_by_class_name('sw-Thumbnail')\n",
      "C:\\Users\\hahih\\AppData\\Local\\Temp/ipykernel_16584/3102488885.py:40: DeprecationWarning: find_element_by_tag_name is deprecated. Please use find_element(by=By.TAG_NAME, value=name) instead\n",
      "  yahoo_img_url = elem.find_element_by_tag_name('img').get_attribute('src')\n",
      "C:\\Users\\hahih\\AppData\\Local\\Temp/ipykernel_16584/3102488885.py:41: DeprecationWarning: find_element_by_class_name is deprecated. Please use find_element(by=By.CLASS_NAME, value=name) instead\n",
      "  raw_url = elem.find_element_by_class_name('sw-ThumbnailGrid__details').get_attribute('href')\n",
      "C:\\Users\\hahih\\AppData\\Local\\Temp/ipykernel_16584/3102488885.py:42: DeprecationWarning: find_element_by_tag_name is deprecated. Please use find_element(by=By.TAG_NAME, value=name) instead\n",
      "  title = elem.find_element_by_tag_name('img').get_attribute('alt')\n"
     ]
    }
   ],
   "source": [
    "#Yahooで画像検索⇒CSVでリスト化⇒保存\n",
    "\n",
    "from time import sleep\n",
    "from selenium import webdriver\n",
    "from selenium.webdriver.chrome.options import Options\n",
    "import pandas as pd\n",
    "\n",
    "#URL読み込み\n",
    "chrome_path = 'C://Users//hahih//Documents//MyPython//chromedriver.exe'\n",
    "options = Options()\n",
    "options.add_argument('--incongnito')\n",
    "driver = webdriver.Chrome(executable_path=chrome_path, options=options)\n",
    "url ='https://search.yahoo.co.jp/image'\n",
    "driver.get(url)\n",
    "\n",
    "#用語検索スキーム\n",
    "query = 'hedgehogg'\n",
    "search_box = driver.find_element_by_class_name(\"SearchBox__searchInput\")\n",
    "search_box.send_keys(query)\n",
    "search_box.submit()\n",
    "\n",
    "sleep(3)\n",
    "\n",
    "#画面スクロール\n",
    "height = 1000\n",
    "while height < 3000:\n",
    "    driver.execute_script('window.scrollTo(0, {});'.format(height))\n",
    "    height += 100\n",
    "    print(height)\n",
    "    \n",
    "    sleep(1)\n",
    "\n",
    "#画像の要素を選択する\n",
    "elements = driver.find_elements_by_class_name('sw-Thumbnail')\n",
    "\n",
    "d_list=[]\n",
    "#要素からURLを取得する\n",
    "for i, elem in enumerate(elements, start=1):\n",
    "    name = f'{query}_{i}'\n",
    "    yahoo_img_url = elem.find_element_by_tag_name('img').get_attribute('src')\n",
    "    raw_url = elem.find_element_by_class_name('sw-ThumbnailGrid__details').get_attribute('href')\n",
    "    title = elem.find_element_by_tag_name('img').get_attribute('alt')    \n",
    "    #辞書⇒リスト⇒DFに格納\n",
    "    d={\n",
    "        'filename':name,\n",
    "        'raw_url':raw_url,\n",
    "        'yahoo_img_url':yahoo_img_url,\n",
    "        'title':title\n",
    "    }\n",
    "    d_list.append(d)\n",
    "    sleep(2)\n",
    "    \n",
    "df = pd.DataFrame(d_list)\n",
    "df.to_csv('image_urls_20220612.csv')\n",
    "\n",
    "driver.quit()\n"
   ]
  },
  {
   "cell_type": "code",
   "execution_count": 10,
   "metadata": {},
   "outputs": [
    {
     "name": "stdout",
     "output_type": "stream",
     "text": [
      "すでにあり\n"
     ]
    }
   ],
   "source": [
    "import os\n",
    "from time import sleep\n",
    "\n",
    "import pandas as pd\n",
    "import requests\n",
    "\n",
    "IMAGE_DIR = './images/'\n",
    "\n",
    "#CSVの読み込み\n",
    "df = pd.read_csv('image_urls_20220612.csv')\n",
    "\n",
    "if os.path.isdir(IMAGE_DIR):\n",
    "    print('すでにあり')\n",
    "else:\n",
    "    os.makedirs(IMAGE_DIR)\n",
    "\n",
    "#画像の保存\n",
    "for file_name, yahoo_img_url in zip(df.filename[:20], df.yahoo_img_url[:20]):\n",
    "    image = requests.get(yahoo_img_url)\n",
    "    with open(IMAGE_DIR + file_name + '.jpg', 'wb') as f:\n",
    "        f.write(image.content)\n",
    "        \n",
    "    sleep(2)\n"
   ]
  },
  {
   "cell_type": "code",
   "execution_count": null,
   "metadata": {},
   "outputs": [],
   "source": []
  }
 ],
 "metadata": {
  "kernelspec": {
   "display_name": "Python 3.9.7 ('base')",
   "language": "python",
   "name": "python3"
  },
  "language_info": {
   "codemirror_mode": {
    "name": "ipython",
    "version": 3
   },
   "file_extension": ".py",
   "mimetype": "text/x-python",
   "name": "python",
   "nbconvert_exporter": "python",
   "pygments_lexer": "ipython3",
   "version": "3.9.7"
  },
  "orig_nbformat": 4,
  "vscode": {
   "interpreter": {
    "hash": "6b0b6d9e910a15178f1e840a606f2852b60b786dca6f87df6b44e25b91527bb6"
   }
  }
 },
 "nbformat": 4,
 "nbformat_minor": 2
}
