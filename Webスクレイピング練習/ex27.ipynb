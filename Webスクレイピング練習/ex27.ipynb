{
 "cells": [
  {
   "cell_type": "code",
   "execution_count": 2,
   "metadata": {},
   "outputs": [],
   "source": [
    "import requests\n",
    "from bs4 import BeautifulSoup"
   ]
  },
  {
   "cell_type": "code",
   "execution_count": 3,
   "metadata": {},
   "outputs": [],
   "source": [
    "url = 'https://scraping-for-beginner.herokuapp.com/udemy'\n",
    "res = requests.get(url)"
   ]
  },
  {
   "cell_type": "code",
   "execution_count": 7,
   "metadata": {},
   "outputs": [
    {
     "name": "stdout",
     "output_type": "stream",
     "text": [
      "<!DOCTYPE html>\n",
      "<html dir=\"ltr\" lang=\"en\">\n",
      " <head>\n",
      "  <meta charset=\"utf-8\"/>\n",
      "  <title>\n",
      "   Webスクレイピング入門者のためのサイト\n",
      "  </title>\n",
      "  <!-- Compiled and minified CSS -->\n",
      "  <link href=\"https://cdnjs.cloudflare.com/ajax/libs/materialize/1.0.0-rc.2/css/materialize.min.css\" rel=\"stylesheet\"/>\n",
      "  <link href=\"https://fonts.googleapis.com/icon?family=Material+Icons\" rel=\"stylesheet\"/>\n",
      " \n",
      "  <link href=\"static/assets/css/style.css\" rel=\"stylesheet\"/>\n",
      "  <link href=\"static/assets/css/udemy.css\" rel=\"stylesheet\"/>\n",
      "  <!-- <link rel=\"stylesheet\" href=\"static/assets/css/mypage.css\"> -->\n",
      " </head>\n",
      " <body>\n",
      "  <!-- Navbar -->\n",
      "  <div class=\"navbar-fixed\">\n",
      "   <!-- Dropdown Structure -->\n",
      "   <nav class=\"\">\n",
      "    <div class=\"nav-wrapper row\">\n",
      "     <div class=\"col s5 l4 offset-s1 offset-l1\">\n",
      "      <a class=\"brand-logo\" href=/\">\n",
      "       Webスクレイピング入門\n",
      "      </a>\n",
      "     </div>\n",
      "     <div class=\"col s5 l6\">\n",
      "      <ul class=\"right hide-on-med-and-down\" id=\"nav-mobile\">\n",
      "       <li>\n",
      "        <a class=\"\" href=/login_page\">\n",
      "         ログイン\n",
      "        </a>\n",
      "       </li>\n",
      "       <li>\n",
      "        <a class=\"\" href=\"/ranking/\">\n",
      "         ランキング\n",
      "        </a>\n",
      "       </li>\n",
      "       <li>\n",
      "        <a class=\"\" href=\"/image\">\n",
      "         画像\n",
      "        </a>\n",
      "       </li>\n",
      "       <li>\n",
      "        <a class=\"\" href=\"/udemy\">\n",
      "         Udemy\n",
      "        </a>\n",
      "       </li>\n",
      "       <li>\n",
      "        <a class=\"\" href=\"https://scraping-for-beginner.readthedocs.io/\" target=\"”_blank”\">\n",
      "         サンプルコード\n",
      "        </a>\n",
      "       </li>\n",
      "      </ul>\n",
      "     </div>\n",
      "    </div>\n",
      "   </nav>\n",
      "  </div>\n",
      "  <div class=\"row\">\n",
      "   <div class=\"col s4 offset-s4\">\n",
      "    <div class=\"overview\">\n",
      "     <p>\n",
      "      こちらのページは、\n",
      "      <b>\n",
      "       PythonによるWebスクレイピング〜Webアプリケーション編〜\n",
      "      </b>\n",
      "      で使用します。\n",
      "     </p>\n",
      "    </div>\n",
      "    <div class=\"\">\n",
      "     <div class=\"\">\n",
      "      <div class=\"card\">\n",
      "       <div class=\"card-image\">\n",
      "        <img src=\"/static/assets/img/imanyu.png\"/>\n",
      "        <span class=\"card-title\" style=\"color: black; background-color: white;\">\n",
      "         いまにゅ\n",
      "        </span>\n",
      "       </div>\n",
      "       <div class=\"card-content\">\n",
      "        <p>\n",
      "         <b>\n",
      "          <p class=\"position\">\n",
      "           いまにゅのプログラミング塾｜code4biz 代表\n",
      "          </p>\n",
      "         </b>\n",
      "         <br/>\n",
      "         『プログラミング×〇〇』でビジネス戦闘力を向上させる｜東京理科大出身｜元東北大学 非常勤講師｜東進デジタルユニバーシティ最年少講師｜AI教育系ベンチャー（キカガク）取締役 → 今｜Udemy受講生3.3万人｜YouTubeチャンネル登録者10.5万人｜プログラミング初学者に欠かせない学習法等を発信\n",
      "         <br/>\n",
      "        </p>\n",
      "       </div>\n",
      "       <div class=\"card-action\">\n",
      "        <p class=\"subscribers\">\n",
      "         受講生の数：16308\n",
      "        </p>\n",
      "        <p class=\"reviews\">\n",
      "         レビューの数：2811\n",
      "        </p>\n",
      "       </div>\n",
      "      </div>\n",
      "     </div>\n",
      "    </div>\n",
      "   </div>\n",
      "  </div>\n",
      "  <!-- Compiled and minified JavaScript -->\n",
      "  <script src=\"https://code.jquery.com/jquery-3.3.1.min.js\">\n",
      "  </script>\n",
      "  <script src=\"https://cdnjs.cloudflare.com/ajax/libs/materialize/1.0.0-rc.2/js/materialize.min.js\">\n",
      "  </script>\n",
      "  <script type=\"text/javascript\">\n",
      "   $(document).ready(function() {\n",
      "      $(\".dropdown-trigger\").dropdown();\n",
      "    });\n",
      "  </script>\n",
      " </body>\n",
      "</html>\n"
     ]
    }
   ],
   "source": [
    "soup = BeautifulSoup(res.text,'html.parser')\n",
    "print(soup.prettify())"
   ]
  },
  {
   "cell_type": "code",
   "execution_count": 11,
   "metadata": {},
   "outputs": [
    {
     "data": {
      "text/plain": [
       "'受講生の数：16308'"
      ]
     },
     "execution_count": 11,
     "metadata": {},
     "output_type": "execute_result"
    }
   ],
   "source": [
    "\n",
    "Subscribers = soup.find_all('p',attrs={'class': 'subscribers'})[0]\n",
    "Subscribers.text\n"
   ]
  },
  {
   "cell_type": "code",
   "execution_count": 26,
   "metadata": {},
   "outputs": [
    {
     "data": {
      "text/plain": [
       "int"
      ]
     },
     "execution_count": 26,
     "metadata": {},
     "output_type": "execute_result"
    }
   ],
   "source": [
    "n_Subscribers = int(Subscribers.text.split('：')[1])\n",
    "type(n_Subscribers)"
   ]
  },
  {
   "cell_type": "code",
   "execution_count": 30,
   "metadata": {},
   "outputs": [
    {
     "data": {
      "text/plain": [
       "2811"
      ]
     },
     "execution_count": 30,
     "metadata": {},
     "output_type": "execute_result"
    }
   ],
   "source": [
    "reviews = soup.find_all('p',attrs={'class': 'reviews'})[0]\n",
    "reviews.text\n",
    "n_reviews = int(reviews.text.split('：')[1])\n",
    "n_reviews"
   ]
  },
  {
   "cell_type": "code",
   "execution_count": 63,
   "metadata": {},
   "outputs": [],
   "source": [
    "soup.select_one('.subscribers')"
   ]
  }
 ],
 "metadata": {
  "interpreter": {
   "hash": "6b0b6d9e910a15178f1e840a606f2852b60b786dca6f87df6b44e25b91527bb6"
  },
  "kernelspec": {
   "display_name": "Python 3.9.7 ('base')",
   "language": "python",
   "name": "python3"
  },
  "language_info": {
   "codemirror_mode": {
    "name": "ipython",
    "version": 3
   },
   "file_extension": ".py",
   "mimetype": "text/x-python",
   "name": "python",
   "nbconvert_exporter": "python",
   "pygments_lexer": "ipython3",
   "version": "3.9.7"
  },
  "orig_nbformat": 4
 },
 "nbformat": 4,
 "nbformat_minor": 2
}
